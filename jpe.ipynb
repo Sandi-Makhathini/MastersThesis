{
 "cells": [
  {
   "cell_type": "code",
   "execution_count": 27,
   "id": "5be9b485",
   "metadata": {},
   "outputs": [],
   "source": [
    "#Cleaning and sorting data before the main process\n",
    "\n",
    "from datetime import time\n",
    "import pandas as pd \n",
    "import re\n",
    "from IPython.core.debugger import set_trace \n",
    "import matplotlib.pyplot as plt\n",
    "import numpy as np"
   ]
  },
  {
   "cell_type": "code",
   "execution_count": 28,
   "id": "8335fea8",
   "metadata": {},
   "outputs": [],
   "source": [
    "#Read in data\n",
    "jpe = pd.read_excel(\"C:/Users/mamth/Desktop/MPhil/WOS/JPE.xlsx\")"
   ]
  },
  {
   "cell_type": "code",
   "execution_count": 29,
   "id": "a1de74de",
   "metadata": {},
   "outputs": [
    {
     "name": "stdout",
     "output_type": "stream",
     "text": [
      "<class 'pandas.core.frame.DataFrame'>\n",
      "RangeIndex: 4047 entries, 0 to 4046\n",
      "Data columns (total 3 columns):\n",
      " #   Column   Non-Null Count  Dtype \n",
      "---  ------   --------------  ----- \n",
      " 0   title    4047 non-null   object\n",
      " 1   year     4047 non-null   int64 \n",
      " 2   citedby  4047 non-null   int64 \n",
      "dtypes: int64(2), object(1)\n",
      "memory usage: 95.0+ KB\n"
     ]
    }
   ],
   "source": [
    "jpe.info()"
   ]
  },
  {
   "cell_type": "code",
   "execution_count": 4,
   "id": "dadc9c79",
   "metadata": {},
   "outputs": [],
   "source": [
    "# g = jpe.sort_values(['year','citedby'],ascending=False).groupby('year')"
   ]
  },
  {
   "cell_type": "code",
   "execution_count": 31,
   "id": "a685f487",
   "metadata": {},
   "outputs": [
    {
     "name": "stdout",
     "output_type": "stream",
     "text": [
      "      citedby\n",
      "year         \n",
      "1962        0\n",
      "1963        0\n",
      "1964        0\n",
      "1965        0\n",
      "1966        0\n",
      "1967        0\n",
      "1968        0\n",
      "1969        0\n",
      "1970        0\n",
      "1971        0\n",
      "1972        0\n",
      "1973        0\n",
      "1974        0\n",
      "1975        0\n",
      "1976        0\n",
      "1977        0\n",
      "1978        0\n",
      "1979        0\n",
      "1980        0\n",
      "1981        0\n",
      "1982        0\n",
      "1983        0\n",
      "1984        0\n",
      "1985        0\n",
      "1986        0\n",
      "1987        0\n",
      "1988        0\n",
      "1989        0\n",
      "1990        0\n",
      "1991        0\n",
      "1992        0\n",
      "1993        0\n",
      "1994        0\n",
      "1995        0\n",
      "1996        0\n",
      "1997        0\n",
      "1998        0\n",
      "1999        0\n",
      "2000        0\n",
      "2001        0\n",
      "2002        0\n",
      "2003        0\n",
      "2004        0\n",
      "2005        0\n",
      "2006        0\n",
      "2007        0\n",
      "2008        0\n",
      "2009        0\n",
      "2010        0\n"
     ]
    }
   ],
   "source": [
    "# Group the data frame by year and extract the h-index for each year\n",
    "jpe['h-index'] = aer.groupby('year')['citedby'].transform(lambda x: ( x >= x.rank(ascending=False, method='first') ).sum())\n",
    "jpe"
   ]
  },
  {
   "cell_type": "code",
   "execution_count": 13,
   "id": "434f984b",
   "metadata": {},
   "outputs": [],
   "source": [
    "x = jpe[['year','h-index']]"
   ]
  },
  {
   "cell_type": "code",
   "execution_count": 14,
   "id": "9884a4d8",
   "metadata": {},
   "outputs": [
    {
     "data": {
      "text/plain": [
       "Text(0.5, 1.0, 'H-index of JPE from 1940 to 2010')"
      ]
     },
     "execution_count": 14,
     "metadata": {},
     "output_type": "execute_result"
    },
    {
     "data": {
      "image/png": "[encoded data removed]",
      "text/plain": [
       "<Figure size 432x288 with 1 Axes>"
      ]
     },
     "metadata": {
      "needs_background": "light"
     },
     "output_type": "display_data"
    }
   ],
   "source": [
    "#plot h-index\n",
    "plt.plot(x)\n",
    "plt.xlabel('Year')\n",
    "plt.ylabel('H-index')\n",
    "plt.title('H-index of JPE from 1940 to 2010')"
   ]
  },
  {
   "cell_type": "code",
   "execution_count": null,
   "id": "b17f751f",
   "metadata": {},
   "outputs": [],
   "source": []
  }
 ],
 "metadata": {
  "kernelspec": {
   "display_name": "Python 3 (ipykernel)",
   "language": "python",
   "name": "python3"
  },
  "language_info": {
   "codemirror_mode": {
    "name": "ipython",
    "version": 3
   },
   "file_extension": ".py",
   "mimetype": "text/x-python",
   "name": "python",
   "nbconvert_exporter": "python",
   "pygments_lexer": "ipython3",
   "version": "3.10.2"
  }
 },
 "nbformat": 4,
 "nbformat_minor": 5
}
