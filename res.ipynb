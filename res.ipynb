{
 "cells": [
  {
   "cell_type": "code",
   "execution_count": 1,
   "id": "5be9b485",
   "metadata": {},
   "outputs": [],
   "source": [
    "#Cleaning and sorting data before the main process\n",
    "\n",
    "from datetime import time\n",
    "import pandas as pd \n",
    "import re\n",
    "from IPython.core.debugger import set_trace \n",
    "import matplotlib.pyplot as plt"
   ]
  },
  {
   "cell_type": "code",
   "execution_count": 2,
   "id": "8335fea8",
   "metadata": {},
   "outputs": [],
   "source": [
    "#Read in data\n",
    "res = pd.read_excel(\"C:/Users/mamth/Desktop/MPhil/WOS/RES.xlsx\")"
   ]
  },
  {
   "cell_type": "code",
   "execution_count": 3,
   "id": "a1de74de",
   "metadata": {},
   "outputs": [
    {
     "name": "stdout",
     "output_type": "stream",
     "text": [
      "<class 'pandas.core.frame.DataFrame'>\n",
      "RangeIndex: 3049 entries, 0 to 3048\n",
      "Data columns (total 3 columns):\n",
      " #   Column  Non-Null Count  Dtype \n",
      "---  ------  --------------  ----- \n",
      " 0   Title   3049 non-null   object\n",
      " 1   Year    3049 non-null   int64 \n",
      " 2   Cites   3049 non-null   int64 \n",
      "dtypes: int64(2), object(1)\n",
      "memory usage: 71.6+ KB\n"
     ]
    }
   ],
   "source": [
    "res.info()"
   ]
  },
  {
   "cell_type": "code",
   "execution_count": 4,
   "id": "dadc9c79",
   "metadata": {},
   "outputs": [],
   "source": [
    "# g = res.sort_values(['year','citedby'],ascending=False).groupby('year')"
   ]
  },
  {
   "cell_type": "code",
   "execution_count": 4,
   "id": "a685f487",
   "metadata": {},
   "outputs": [
    {
     "name": "stdout",
     "output_type": "stream",
     "text": [
      "      citedby\n",
      "year         \n",
      "1940        8\n",
      "1941        8\n",
      "1942        5\n",
      "1943        5\n",
      "1944        4\n",
      "...       ...\n",
      "2006       44\n",
      "2007       46\n",
      "2008       44\n",
      "2009       43\n",
      "2010       44\n",
      "\n",
      "[71 rows x 1 columns]\n"
     ]
    }
   ],
   "source": [
    "# Group the data frame by year and extract the h-index for each year\n",
    "res['h-index'] = aer.groupby('year')['citedby'].transform(lambda x: ( x >= x.rank(ascending=False, method='first') ).sum())\n",
    "res"
   ]
  },
  {
   "cell_type": "code",
   "execution_count": null,
   "id": "37a2613f",
   "metadata": {},
   "outputs": [],
   "source": [
    "x = res[['year','h-index']]"
   ]
  },
  {
   "cell_type": "code",
   "execution_count": 6,
   "id": "9884a4d8",
   "metadata": {},
   "outputs": [
    {
     "data": {
      "text/plain": [
       "Text(0.5, 1.0, 'H-index of RES from 1940 to 2010')"
      ]
     },
     "execution_count": 6,
     "metadata": {},
     "output_type": "execute_result"
    },
    {
     "data": {
      "image/png": "[encoded data removed]",
      "text/plain": [
       "<Figure size 432x288 with 1 Axes>"
      ]
     },
     "metadata": {
      "needs_background": "light"
     },
     "output_type": "display_data"
    }
   ],
   "source": [
    "#plot h-indexs\n",
    "plt.plot(x)\n",
    "plt.xlabel('Year')\n",
    "plt.ylabel('H-index')\n",
    "plt.title('H-index of articles published in RES from 1962 to 2010')"
   ]
  }
 ],
 "metadata": {
  "kernelspec": {
   "display_name": "Python 3 (ipykernel)",
   "language": "python",
   "name": "python3"
  },
  "language_info": {
   "codemirror_mode": {
    "name": "ipython",
    "version": 3
   },
   "file_extension": ".py",
   "mimetype": "text/x-python",
   "name": "python",
   "nbconvert_exporter": "python",
   "pygments_lexer": "ipython3",
   "version": "3.10.2"
  }
 },
 "nbformat": 4,
 "nbformat_minor": 5
}
