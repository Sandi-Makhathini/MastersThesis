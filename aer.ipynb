{
 "cells": [
  {
   "cell_type": "code",
   "execution_count": 5,
   "id": "5be9b485",
   "metadata": {},
   "outputs": [],
   "source": [
    "#Cleaning and sorting data before the main process\n",
    "\n",
    "from datetime import time\n",
    "import pandas as pd \n",
    "import re\n",
    "from IPython.core.debugger import set_trace \n",
    "import matplotlib.pyplot as plt"
   ]
  },
  {
   "cell_type": "code",
   "execution_count": 9,
   "id": "8335fea8",
   "metadata": {},
   "outputs": [],
   "source": [
    "#Read in data\n",
    "aer = pd.read_excel(\"C:/Users/mamth/Desktop/MPhil/WOS/AER.xlsx\")"
   ]
  },
  {
   "cell_type": "code",
   "execution_count": 10,
   "id": "a1de74de",
   "metadata": {},
   "outputs": [
    {
     "name": "stdout",
     "output_type": "stream",
     "text": [
      "<class 'pandas.core.frame.DataFrame'>\n",
      "RangeIndex: 10139 entries, 0 to 10138\n",
      "Data columns (total 3 columns):\n",
      " #   Column   Non-Null Count  Dtype \n",
      "---  ------   --------------  ----- \n",
      " 0   title    10139 non-null  object\n",
      " 1   year     10139 non-null  int64 \n",
      " 2   citedby  10139 non-null  int64 \n",
      "dtypes: int64(2), object(1)\n",
      "memory usage: 237.8+ KB\n"
     ]
    }
   ],
   "source": [
    "aer.info()"
   ]
  },
  {
   "cell_type": "code",
   "execution_count": 4,
   "id": "dadc9c79",
   "metadata": {},
   "outputs": [],
   "source": [
    "# g = aer.sort_values(['year','citedby'],ascending=False).groupby('year')"
   ]
  },
  {
   "cell_type": "code",
   "execution_count": 29,
   "id": "f1dd8a51",
   "metadata": {},
   "outputs": [
    {
     "data": {
      "text/html": [
       "<div>\n",
       "<style scoped>\n",
       "    .dataframe tbody tr th:only-of-type {\n",
       "        vertical-align: middle;\n",
       "    }\n",
       "\n",
       "    .dataframe tbody tr th {\n",
       "        vertical-align: top;\n",
       "    }\n",
       "\n",
       "    .dataframe thead th {\n",
       "        text-align: right;\n",
       "    }\n",
       "</style>\n",
       "<table border=\"1\" class=\"dataframe\">\n",
       "  <thead>\n",
       "    <tr style=\"text-align: right;\">\n",
       "      <th></th>\n",
       "      <th>title</th>\n",
       "      <th>year</th>\n",
       "      <th>citedby</th>\n",
       "      <th>h-index</th>\n",
       "    </tr>\n",
       "  </thead>\n",
       "  <tbody>\n",
       "    <tr>\n",
       "      <th>0</th>\n",
       "      <td>AGENCY COSTS OF FREE CASH FLOW, CORPORATE-FINA...</td>\n",
       "      <td>1986</td>\n",
       "      <td>456</td>\n",
       "      <td>34</td>\n",
       "    </tr>\n",
       "    <tr>\n",
       "      <th>1</th>\n",
       "      <td>CREDIT RATIONING IN MARKETS WITH IMPERFECT INF...</td>\n",
       "      <td>1981</td>\n",
       "      <td>266</td>\n",
       "      <td>26</td>\n",
       "    </tr>\n",
       "    <tr>\n",
       "      <th>2</th>\n",
       "      <td>PRODUCTION, INFORMATION COSTS, AND ECONOMIC OR...</td>\n",
       "      <td>1972</td>\n",
       "      <td>200</td>\n",
       "      <td>22</td>\n",
       "    </tr>\n",
       "    <tr>\n",
       "      <th>3</th>\n",
       "      <td>MONOPOLISTIC COMPETITION AND OPTIMUM PRODUCT D...</td>\n",
       "      <td>1977</td>\n",
       "      <td>127</td>\n",
       "      <td>25</td>\n",
       "    </tr>\n",
       "    <tr>\n",
       "      <th>4</th>\n",
       "      <td>NETWORK EXTERNALITIES, COMPETITION, AND COMPAT...</td>\n",
       "      <td>1985</td>\n",
       "      <td>146</td>\n",
       "      <td>32</td>\n",
       "    </tr>\n",
       "    <tr>\n",
       "      <th>...</th>\n",
       "      <td>...</td>\n",
       "      <td>...</td>\n",
       "      <td>...</td>\n",
       "      <td>...</td>\n",
       "    </tr>\n",
       "    <tr>\n",
       "      <th>10134</th>\n",
       "      <td>CORRECTION</td>\n",
       "      <td>1992</td>\n",
       "      <td>0</td>\n",
       "      <td>33</td>\n",
       "    </tr>\n",
       "    <tr>\n",
       "      <th>10135</th>\n",
       "      <td>EXPECTATIONS, TAXES, AND INTEREST - REPLY</td>\n",
       "      <td>1991</td>\n",
       "      <td>0</td>\n",
       "      <td>35</td>\n",
       "    </tr>\n",
       "    <tr>\n",
       "      <th>10136</th>\n",
       "      <td>CORRECTION</td>\n",
       "      <td>1991</td>\n",
       "      <td>0</td>\n",
       "      <td>35</td>\n",
       "    </tr>\n",
       "    <tr>\n",
       "      <th>10137</th>\n",
       "      <td>HOW TO CARVE A MEDICAL DEGREE - COMMENT</td>\n",
       "      <td>1991</td>\n",
       "      <td>0</td>\n",
       "      <td>35</td>\n",
       "    </tr>\n",
       "    <tr>\n",
       "      <th>10138</th>\n",
       "      <td>CORRECTION</td>\n",
       "      <td>1991</td>\n",
       "      <td>0</td>\n",
       "      <td>35</td>\n",
       "    </tr>\n",
       "  </tbody>\n",
       "</table>\n",
       "<p>10139 rows × 4 columns</p>\n",
       "</div>"
      ],
      "text/plain": [
       "                                                   title  year  citedby  \\\n",
       "0      AGENCY COSTS OF FREE CASH FLOW, CORPORATE-FINA...  1986      456   \n",
       "1      CREDIT RATIONING IN MARKETS WITH IMPERFECT INF...  1981      266   \n",
       "2      PRODUCTION, INFORMATION COSTS, AND ECONOMIC OR...  1972      200   \n",
       "3      MONOPOLISTIC COMPETITION AND OPTIMUM PRODUCT D...  1977      127   \n",
       "4      NETWORK EXTERNALITIES, COMPETITION, AND COMPAT...  1985      146   \n",
       "...                                                  ...   ...      ...   \n",
       "10134                                         CORRECTION  1992        0   \n",
       "10135          EXPECTATIONS, TAXES, AND INTEREST - REPLY  1991        0   \n",
       "10136                                         CORRECTION  1991        0   \n",
       "10137            HOW TO CARVE A MEDICAL DEGREE - COMMENT  1991        0   \n",
       "10138                                         CORRECTION  1991        0   \n",
       "\n",
       "       h-index  \n",
       "0           34  \n",
       "1           26  \n",
       "2           22  \n",
       "3           25  \n",
       "4           32  \n",
       "...        ...  \n",
       "10134       33  \n",
       "10135       35  \n",
       "10136       35  \n",
       "10137       35  \n",
       "10138       35  \n",
       "\n",
       "[10139 rows x 4 columns]"
      ]
     },
     "execution_count": 29,
     "metadata": {},
     "output_type": "execute_result"
    }
   ],
   "source": [
    "# Group the data frame by year and extract the h-index for each year\n",
    "aer['h-index'] = aer.groupby('year')['citedby'].transform(lambda x: ( x >= x.rank(ascending=False, method='first') ).sum())\n",
    "aer"
   ]
  },
  {
   "cell_type": "code",
   "execution_count": null,
   "id": "fd44e9db",
   "metadata": {},
   "outputs": [],
   "source": [
    "x = aer[['year','h-index']]"
   ]
  },
  {
   "cell_type": "code",
   "execution_count": 35,
   "id": "9884a4d8",
   "metadata": {},
   "outputs": [
    {
     "data": {
      "text/plain": [
       "Text(0.5, 1.0, 'H-index of AER from 1962 to 2010')"
      ]
     },
     "execution_count": 35,
     "metadata": {},
     "output_type": "execute_result"
    },
    {
     "data": {
      "image/png": "[encoded data removed]",
      "text/plain": [
       "<Figure size 432x288 with 1 Axes>"
      ]
     },
     "metadata": {
      "needs_background": "light"
     },
     "output_type": "display_data"
    }
   ],
   "source": [
    "#plot h-indexs (Still wrong)\n",
    "plt.plot(x)\n",
    "plt.xlabel('Year')\n",
    "plt.ylabel('H-index')\n",
    "plt.title('H-index of AER from 1962 to 2010')"
   ]
  },
  {
   "cell_type": "code",
   "execution_count": null,
   "id": "4f654cc9",
   "metadata": {},
   "outputs": [],
   "source": []
  }
 ],
 "metadata": {
  "kernelspec": {
   "display_name": "Python 3 (ipykernel)",
   "language": "python",
   "name": "python3"
  },
  "language_info": {
   "codemirror_mode": {
    "name": "ipython",
    "version": 3
   },
   "file_extension": ".py",
   "mimetype": "text/x-python",
   "name": "python",
   "nbconvert_exporter": "python",
   "pygments_lexer": "ipython3",
   "version": "3.10.2"
  }
 },
 "nbformat": 4,
 "nbformat_minor": 5
}
